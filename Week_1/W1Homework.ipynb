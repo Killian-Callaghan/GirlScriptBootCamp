{
 "cells": [
  {
   "cell_type": "markdown",
   "metadata": {},
   "source": [
    "# Week 1"
   ]
  },
  {
   "cell_type": "code",
   "execution_count": 1,
   "metadata": {},
   "outputs": [
    {
     "name": "stdout",
     "output_type": "stream",
     "text": [
      "hello world!\n"
     ]
    }
   ],
   "source": [
    "print(\"hello world!\")"
   ]
  },
  {
   "cell_type": "markdown",
   "metadata": {},
   "source": [
    "## Write a program to add two numbers"
   ]
  },
  {
   "cell_type": "code",
   "execution_count": 3,
   "metadata": {},
   "outputs": [
    {
     "name": "stdout",
     "output_type": "stream",
     "text": [
      "sum of 2 + 3 is 5\n"
     ]
    }
   ],
   "source": [
    "###Write your code here##\n",
    "n1 = 2\n",
    "n2 = 3\n",
    "add = n1 + n2\n",
    "###end##\n",
    "print(\"sum of {0} + {1} is {2}\".format(n1, n2, add))"
   ]
  },
  {
   "cell_type": "markdown",
   "metadata": {},
   "source": [
    "## Write a program to print if a number is positive or negative"
   ]
  },
  {
   "cell_type": "code",
   "execution_count": 6,
   "metadata": {},
   "outputs": [
    {
     "name": "stdout",
     "output_type": "stream",
     "text": [
      "The value is negitive\n"
     ]
    }
   ],
   "source": [
    "n = -3\n",
    "\n",
    "if n<0:\n",
    "    print(\"The value is negitive\")\n",
    "else:\n",
    "    print(\"The value is positive\")"
   ]
  },
  {
   "cell_type": "markdown",
   "metadata": {},
   "source": [
    "## Python program to check if year is a leap year or not"
   ]
  },
  {
   "cell_type": "code",
   "execution_count": null,
   "metadata": {},
   "outputs": [],
   "source": []
  },
  {
   "cell_type": "code",
   "execution_count": 1,
   "metadata": {},
   "outputs": [
    {
     "name": "stdout",
     "output_type": "stream",
     "text": [
      "Enter a year: 2020\n",
      "2020 is a leap year\n"
     ]
    }
   ],
   "source": [
    "# Python program to check if year is a leap year or not\n",
    "\n",
    "##year = 2000\n",
    "\n",
    "#To get year (integer input) from the user\n",
    "year = int(input(\"Enter a year: \"))\n",
    "\n",
    "if (year % 4) == 0:\n",
    "   if (year % 100) == 0:\n",
    "       if (year % 400) == 0:\n",
    "           print(\"{0} is a leap year\".format(year))\n",
    "       else:\n",
    "           print(\"{0} is not a leap year\".format(year))\n",
    "   else:\n",
    "       print(\"{0} is a leap year\".format(year))\n",
    "else:\n",
    "   print(\"{0} is not a leap year\".format(year))"
   ]
  },
  {
   "cell_type": "code",
   "execution_count": null,
   "metadata": {},
   "outputs": [],
   "source": [
    "## Lists"
   ]
  },
  {
   "cell_type": "code",
   "execution_count": 4,
   "metadata": {},
   "outputs": [
    {
     "name": "stdout",
     "output_type": "stream",
     "text": [
      "['abcd', 786, 2.23, 'john', 70.2]\n",
      "abcd\n",
      "786 2.23\n",
      "2.23\n",
      "john\n",
      "70.2\n",
      "['abcd', 786, 2.23, 'john', 70.2] ['abcd', 786, 2.23, 'john', 70.2]\n"
     ]
    }
   ],
   "source": [
    "list = [ 'abcd', 786 , 2.23, 'john', 70.2 ]\n",
    "tinylist = [123, 'john']\n",
    "\n",
    "# Print complete list\n",
    "print(list)\n",
    "\n",
    "\n",
    "# Prints first element of the list\n",
    "print(list[0])\n",
    "\n",
    "\n",
    "# Prints elements starting from 2nd till 3rd \n",
    "print(list[1], list[2])\n",
    "\n",
    "\n",
    "# Prints elements starting from 3rd element\n",
    "x = 2\n",
    "while x<len(list):\n",
    "    print (list[x])\n",
    "    x = x+1\n",
    "\n",
    "\n",
    "\n",
    "# Prints list two times\n",
    "print(list, list)\n",
    "\n",
    "\n",
    "# Prints concatenated lists\n",
    "\n"
   ]
  },
  {
   "cell_type": "markdown",
   "metadata": {},
   "source": [
    "# Dictionary"
   ]
  },
  {
   "cell_type": "code",
   "execution_count": 13,
   "metadata": {},
   "outputs": [
    {
     "name": "stdout",
     "output_type": "stream",
     "text": [
      "This is one\n",
      "This is two\n",
      "{'one': 'This is one', 2: 'This is two'}\n",
      "{'one': 'This is one', 2: 'This is two'}\n",
      "{'one': 'This is one', 2: 'This is two'}\n"
     ]
    }
   ],
   "source": [
    "dict = {}\n",
    "dict['one'] = \"This is one\"\n",
    "dict[2]     = \"This is two\"\n",
    "\n",
    "tinydict = {'name': 'john','code':6734, 'dept': 'sales'}\n",
    "\n",
    "\n",
    "# Prints value for 'one' key\n",
    "print(dict['one'])\n",
    "\n",
    "\n",
    "# Prints value for 2 key\n",
    "print(dict[2])\n",
    "\n",
    "\n",
    "# Prints complete dictionary\n",
    "print(dict)\n",
    "\n",
    "\n",
    "# Prints all the keys\n",
    "print(dict)\n",
    "\n",
    "\n",
    "# Prints all the values\n",
    "print(dict)"
   ]
  },
  {
   "cell_type": "code",
   "execution_count": 5,
   "metadata": {},
   "outputs": [
    {
     "ename": "SyntaxError",
     "evalue": "invalid syntax (<ipython-input-5-0e2d96e8ca62>, line 6)",
     "output_type": "error",
     "traceback": [
      "\u001b[1;36m  File \u001b[1;32m\"<ipython-input-5-0e2d96e8ca62>\"\u001b[1;36m, line \u001b[1;32m6\u001b[0m\n\u001b[1;33m    for(i=7;i<=1;i-2):\u001b[0m\n\u001b[1;37m    ^\u001b[0m\n\u001b[1;31mSyntaxError\u001b[0m\u001b[1;31m:\u001b[0m invalid syntax\n"
     ]
    }
   ],
   "source": [
    "i=7\n",
    "j=4;\n",
    "k=2\n",
    "while(j<=1):\n",
    "{\n",
    "for(i=7;i<=1;i-2):\n",
    "    {\n",
    "        print(j)\n",
    "}\n",
    "j--;    \n",
    "}\n",
    "\n",
    "while(k >=):\n",
    "{\n",
    "for(i=4;i>=7;i+2):\n",
    "    {\n",
    "        print(k)\n",
    "}\n",
    "k++;    \n",
    "}\n",
    "\n"
   ]
  },
  {
   "cell_type": "code",
   "execution_count": null,
   "metadata": {},
   "outputs": [],
   "source": []
  },
  {
   "cell_type": "code",
   "execution_count": null,
   "metadata": {},
   "outputs": [],
   "source": []
  }
 ],
 "metadata": {
  "kernelspec": {
   "display_name": "Python 3",
   "language": "python",
   "name": "python3"
  },
  "language_info": {
   "codemirror_mode": {
    "name": "ipython",
    "version": 3
   },
   "file_extension": ".py",
   "mimetype": "text/x-python",
   "name": "python",
   "nbconvert_exporter": "python",
   "pygments_lexer": "ipython3",
   "version": "3.8.3"
  }
 },
 "nbformat": 4,
 "nbformat_minor": 4
}
