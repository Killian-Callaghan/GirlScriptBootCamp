{
 "cells": [
  {
   "cell_type": "markdown",
   "metadata": {},
   "source": [
    "## design a calculator program (add, subtract, multiply, div) using switch "
   ]
  },
  {
   "cell_type": "markdown",
   "metadata": {},
   "source": [
    "#### hint:\n",
    "#### 1) write four functions (add, subtract, div, multiply) that accept 2 numbers\n",
    "#### 2) accept a numbers from user\n",
    "#### 3) write switch statement to perform addition,sub,mul,or div."
   ]
  },
  {
   "cell_type": "code",
   "execution_count": 6,
   "metadata": {},
   "outputs": [
    {
     "name": "stdout",
     "output_type": "stream",
     "text": [
      "You can perform operation\n",
      "1. Addition\n",
      "2. Subtraction\n",
      "3. Multiplication\n",
      "4. Division\n",
      "Select operation from 1,2,3 or 4: 4\n",
      "Enter first number: 10\n",
      "Enter second number: 2\n",
      "5.0\n"
     ]
    }
   ],
   "source": [
    "def addition(num1, num2):\n",
    "  num1 += num2\n",
    "  return num1\n",
    "\n",
    "def subtraction(num1, num2):\n",
    "  num1 -= num2\n",
    "  return num1\n",
    "\n",
    "def mul(num1, num2):\n",
    "  num1 *= num2\n",
    "  return num1\n",
    "\n",
    "def division(num1, num2):\n",
    "  num1 /= num2\n",
    "  return num1\n",
    "\n",
    "def default(num1, num2):\n",
    "  return \"error\"\n",
    "\n",
    "switcher = {\n",
    "    1: addition,\n",
    "    2: subtraction,\n",
    "    3: mul,\n",
    "    4: division\n",
    "}\n",
    "\n",
    "def switch(operation, num1, num2):\n",
    "  return switcher.get(operation, default)(num1, num2)\n",
    "\n",
    "print('''You can perform operation\n",
    "1. Addition\n",
    "2. Subtraction\n",
    "3. Multiplication\n",
    "4. Division''')\n",
    "\n",
    "# Take input from user\n",
    "choice = int(input(\"Select operation from 1,2,3 or 4: \"))\n",
    "num1 = int(input(\"Enter first number: \"))\n",
    "num2 = int(input(\"Enter second number: \"))\n",
    "print (switch(choice, num1, num2))"
   ]
  },
  {
   "cell_type": "code",
   "execution_count": null,
   "metadata": {},
   "outputs": [],
   "source": []
  },
  {
   "cell_type": "code",
   "execution_count": null,
   "metadata": {},
   "outputs": [],
   "source": []
  }
 ],
 "metadata": {
  "kernelspec": {
   "display_name": "Python 3",
   "language": "python",
   "name": "python3"
  },
  "language_info": {
   "codemirror_mode": {
    "name": "ipython",
    "version": 3
   },
   "file_extension": ".py",
   "mimetype": "text/x-python",
   "name": "python",
   "nbconvert_exporter": "python",
   "pygments_lexer": "ipython3",
   "version": "3.8.3"
  }
 },
 "nbformat": 4,
 "nbformat_minor": 4
}
